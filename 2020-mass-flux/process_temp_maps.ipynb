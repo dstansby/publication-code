{
 "cells": [
  {
   "cell_type": "markdown",
   "metadata": {},
   "source": [
    "Process temperature maps and save them to FITS files\n",
    "---\n",
    "These are in IDL .sav files, so load them into sunpy and save a copy for easier loading."
   ]
  },
  {
   "cell_type": "code",
   "execution_count": 1,
   "metadata": {},
   "outputs": [],
   "source": [
    "from eispy.cube import read\n",
    "import scipy.io\n",
    "import numpy as np\n",
    "import sunpy.map\n",
    "import astropy.units as u\n",
    "from pathlib import Path\n",
    "\n",
    "from astropy.wcs import WCS\n",
    "from reproject import reproject_interp\n",
    "\n",
    "from pubtools import solar as solartools\n",
    "import matplotlib.pyplot as plt"
   ]
  },
  {
   "cell_type": "code",
   "execution_count": 2,
   "metadata": {},
   "outputs": [],
   "source": [
    "files = {1: {'eis_map': 'data/ARs/eisorig_20080110.fits.gz',\n",
    "             'temp_sav': 'data/ARs/artemp_20080110.sav',\n",
    "             'dop_sav': 'data/ARs/doppler_20080110.sav',\n",
    "             'center': (104.56, -105.73),\n",
    "            },\n",
    "         2: {'eis_map': 'data/ARs/eis_l0_20130116_120213.fits',\n",
    "             'temp_sav': 'data/ARs/artemp_20130116_1.sav',\n",
    "             'dop_sav': 'data/ARs/doppler_20130116_1.sav',\n",
    "             'center': (484.27, 182.71),\n",
    "            },\n",
    "         3: {'eis_map': 'data/ARs/eis_l0_20130116_145643.fits',\n",
    "             'temp_sav': 'data/ARs/artemp_20130116_2.sav',\n",
    "             'dop_sav': 'data/ARs/doppler_20130116_2.sav',\n",
    "             'center': (10.24, 176.73),\n",
    "            },\n",
    "        }"
   ]
  },
  {
   "cell_type": "markdown",
   "metadata": {},
   "source": [
    "Read in maps, set their WCS, and then save to .fits files"
   ]
  },
  {
   "cell_type": "code",
   "execution_count": 8,
   "metadata": {},
   "outputs": [
    {
     "name": "stderr",
     "output_type": "stream",
     "text": [
      "WARNING: FITSFixedWarning: 'datfix' made the change 'Set DATE-REF to '1858-11-17' from MJD-REF.\n",
      "Set MJD-OBS to 54475.952118 from DATE-OBS'. [astropy.wcs.wcs]\n",
      "WARNING: FITSFixedWarning: 'datfix' made the change 'Set DATE-REF to '1858-11-17' from MJD-REF.\n",
      "Set MJD-OBS to 56308.501539 from DATE-OBS'. [astropy.wcs.wcs]\n",
      "WARNING: FITSFixedWarning: 'datfix' made the change 'Set DATE-REF to '1858-11-17' from MJD-REF.\n",
      "Set MJD-OBS to 56308.622720 from DATE-OBS'. [astropy.wcs.wcs]\n"
     ]
    }
   ],
   "source": [
    "for i in range(1, 4):\n",
    "    data = files[i]\n",
    "    eis_map = read(data['eis_map'])\n",
    "    eis_map = eis_map[eis_map.wavelengths[0]]\n",
    "    wcs = eis_map.wcs.dropaxis(2)\n",
    "    wcs.wcs.crpix[1] = (eis_map.data.shape[1] + 1)/ 2\n",
    "    wcs.wcs.crval[1] = (data['center'][1] * u.arcsec).to_value(u.deg)\n",
    "    wcs.wcs.crpix[0] = (eis_map.data.shape[2] + 1)/ 2\n",
    "    wcs.wcs.crval[0] = (data['center'][0] * u.arcsec).to_value(u.deg)\n",
    "        \n",
    "    for var in ['temp', 'dop']:\n",
    "        fname = data[f'{var}_sav']\n",
    "        sav = scipy.io.readsav(fname, python_dict=True)\n",
    "        temp_data = sav[var].copy()\n",
    "        if var == 'temp':\n",
    "            temp_data[temp_data < 0] = np.nan\n",
    "            temp_data = 10**temp_data / 1e6\n",
    "        if var == 'dop':\n",
    "            temp_data = temp_data[:, ::-1]\n",
    "\n",
    "        temp_map = sunpy.map.Map(temp_data, wcs)\n",
    "        temp_map = solartools.set_earth_obs_coord(temp_map)\n",
    "        temp_map.save(Path(data[f'{var}_sav']).with_suffix('.fits'), overwrite=True)"
   ]
  },
  {
   "cell_type": "markdown",
   "metadata": {},
   "source": [
    "Rotate 3rd map on to 2nd map, and add them together"
   ]
  },
  {
   "cell_type": "code",
   "execution_count": 52,
   "metadata": {
    "scrolled": true
   },
   "outputs": [
    {
     "name": "stdout",
     "output_type": "stream",
     "text": [
      "2013-01-16T12:02:13.000\n",
      "2013-01-16T14:56:43.000\n"
     ]
    }
   ],
   "source": [
    "from sunpy.coordinates import Helioprojective, RotatedSunFrame, transform_with_sun_center\n",
    "\n",
    "var = 'doppler'# 'artemp'\n",
    "map_base = sunpy.map.Map(f'data/ARs/{var}_20130116_1.fits')\n",
    "to_rotate = sunpy.map.Map(f'data/ARs/{var}_20130116_2.fits')\n",
    "print(map_base.date)\n",
    "print(to_rotate.date)"
   ]
  },
  {
   "cell_type": "markdown",
   "metadata": {},
   "source": [
    "Create a new WCS that has enough pixels to fit both maps"
   ]
  },
  {
   "cell_type": "code",
   "execution_count": 53,
   "metadata": {},
   "outputs": [],
   "source": [
    "new_meta = map_base.meta\n",
    "new_meta['naxis1'] = 246\n",
    "new_meta.pop('keycomments')\n",
    "new_meta\n",
    "out_wcs = WCS(new_meta)\n",
    "out_wcs.heliographic_observer = map_base.reference_coordinate.observer"
   ]
  },
  {
   "cell_type": "markdown",
   "metadata": {},
   "source": [
    "Reproject maps on to the new WCS"
   ]
  },
  {
   "cell_type": "code",
   "execution_count": 55,
   "metadata": {},
   "outputs": [
    {
     "name": "stderr",
     "output_type": "stream",
     "text": [
      "<ipython-input-55-a16afc903c86>:9: RuntimeWarning: Mean of empty slice\n",
      "  tot_map = np.nanmean(np.stack((maps_out[0].data, maps_out[1].data)), axis=0)\n"
     ]
    }
   ],
   "source": [
    "maps_in = [map_base, to_rotate]\n",
    "maps_out = []\n",
    "for map_in in maps_in:\n",
    "    dt = map_base.date - map_in.date\n",
    "    with transform_with_sun_center():\n",
    "        arr, _ = reproject_interp(map_in, out_wcs, [512, 236])\n",
    "    maps_out.append(sunpy.map.Map(arr, out_wcs))\n",
    "    \n",
    "tot_map = np.nanmean(np.stack((maps_out[0].data, maps_out[1].data)), axis=0)\n",
    "tot_map = sunpy.map.Map(tot_map, maps_out[0].wcs)\n",
    "tot_map.save(f'data/ARs/total_map_{var}.fits', overwrite=True)"
   ]
  }
 ],
 "metadata": {
  "kernelspec": {
   "display_name": "Python 3",
   "language": "python",
   "name": "python3"
  },
  "language_info": {
   "codemirror_mode": {
    "name": "ipython",
    "version": 3
   },
   "file_extension": ".py",
   "mimetype": "text/x-python",
   "name": "python",
   "nbconvert_exporter": "python",
   "pygments_lexer": "ipython3",
   "version": "3.8.5"
  }
 },
 "nbformat": 4,
 "nbformat_minor": 4
}
