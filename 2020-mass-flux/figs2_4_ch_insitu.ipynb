{
 "cells": [
  {
   "cell_type": "markdown",
   "metadata": {},
   "source": [
    "Coronal hole in-situ timeseries\n",
    "==="
   ]
  },
  {
   "cell_type": "code",
   "execution_count": 1,
   "metadata": {},
   "outputs": [],
   "source": [
    "from datetime import datetime, timedelta\n",
    "\n",
    "import astropy.units as u\n",
    "import astropy.constants as const\n",
    "from sunpy.time import TimeRange\n",
    "from sunpy.timeseries import GenericTimeSeries\n",
    "from heliopy.data import psp, util\n",
    "import matplotlib.pyplot as plt\n",
    "import matplotlib.colors as mcolor\n",
    "import matplotlib.gridspec as gridspec\n",
    "import matplotlib.patches as mpatch\n",
    "import matplotlib.ticker as mticker\n",
    "import numpy as np\n",
    "import pandas as pd\n",
    "\n",
    "import helpers\n",
    "from helpers import figwidth, figdir"
   ]
  },
  {
   "cell_type": "markdown",
   "metadata": {},
   "source": [
    "Set perihelion 1 dates\n",
    "----"
   ]
  },
  {
   "cell_type": "code",
   "execution_count": 2,
   "metadata": {},
   "outputs": [],
   "source": [
    "starttime = datetime(2018, 11, 1)\n",
    "endtime = datetime(2018, 11, 24)"
   ]
  },
  {
   "cell_type": "markdown",
   "metadata": {},
   "source": [
    "Get the data\n",
    "---"
   ]
  },
  {
   "cell_type": "markdown",
   "metadata": {},
   "source": [
    "Magnetic field"
   ]
  },
  {
   "cell_type": "code",
   "execution_count": 3,
   "metadata": {},
   "outputs": [],
   "source": [
    "mag = psp.fields_mag_rtn_1min(starttime, endtime)"
   ]
  },
  {
   "cell_type": "markdown",
   "metadata": {},
   "source": [
    "Plasma\n",
    "(n.b. load this in daily chunks and downsample to prevent memory explosion)"
   ]
  },
  {
   "cell_type": "code",
   "execution_count": 4,
   "metadata": {},
   "outputs": [
    {
     "name": "stdout",
     "output_type": "stream",
     "text": [
      "2018-11-01 00:00:00\n",
      "Downloading https://spdf.gsfc.nasa.gov/pub/data/psp/sweap/spc/l3/l3i/2018/psp_swp_spc_l3i_20181101_v01.cdf to /Users/dstansby/Data/psp/sweap/spc/l3/l3i/2018/psp_swp_spc_l3i_20181101_v01.cdf\n"
     ]
    },
    {
     "name": "stderr",
     "output_type": "stream",
     "text": [
      "100.0% 48758784 / 48753276\n"
     ]
    },
    {
     "name": "stdout",
     "output_type": "stream",
     "text": [
      "\n",
      "\n"
     ]
    },
    {
     "name": "stderr",
     "output_type": "stream",
     "text": [
      "/Users/dstansby/miniconda3/envs/pub-env/lib/python3.8/functools.py:875: UserWarning: Discarding nonzero nanoseconds in conversion\n",
      "  return dispatch(args[0].__class__)(*args, **kw)\n",
      "WARNING: SunpyUserWarning: Using .data to access the dataframe is discouraged; use .to_dataframe() instead. [sunpy.timeseries.timeseriesbase]\n",
      "WARNING: SunpyUserWarning: Using .data to access the dataframe is discouraged; use .to_dataframe() instead. [sunpy.timeseries.timeseriesbase]\n"
     ]
    },
    {
     "name": "stdout",
     "output_type": "stream",
     "text": [
      "2018-11-02 00:00:00\n",
      "Downloading https://spdf.gsfc.nasa.gov/pub/data/psp/sweap/spc/l3/l3i/2018/psp_swp_spc_l3i_20181102_v01.cdf to /Users/dstansby/Data/psp/sweap/spc/l3/l3i/2018/psp_swp_spc_l3i_20181102_v01.cdf\n"
     ]
    },
    {
     "name": "stderr",
     "output_type": "stream",
     "text": [
      "100.0% 93609984 / 93606932\n"
     ]
    },
    {
     "name": "stdout",
     "output_type": "stream",
     "text": [
      "\n",
      "\n"
     ]
    },
    {
     "name": "stderr",
     "output_type": "stream",
     "text": [
      "/Users/dstansby/miniconda3/envs/pub-env/lib/python3.8/functools.py:875: UserWarning: Discarding nonzero nanoseconds in conversion\n",
      "  return dispatch(args[0].__class__)(*args, **kw)\n",
      "WARNING: SunpyUserWarning: Using .data to access the dataframe is discouraged; use .to_dataframe() instead. [sunpy.timeseries.timeseriesbase]\n"
     ]
    },
    {
     "name": "stdout",
     "output_type": "stream",
     "text": [
      "2018-11-03 00:00:00\n",
      "Downloading https://spdf.gsfc.nasa.gov/pub/data/psp/sweap/spc/l3/l3i/2018/psp_swp_spc_l3i_20181103_v01.cdf to /Users/dstansby/Data/psp/sweap/spc/l3/l3i/2018/psp_swp_spc_l3i_20181103_v01.cdf\n"
     ]
    },
    {
     "name": "stderr",
     "output_type": "stream",
     "text": [
      "100.0% 58703872 / 58701944\n"
     ]
    },
    {
     "name": "stdout",
     "output_type": "stream",
     "text": [
      "\n",
      "\n"
     ]
    },
    {
     "name": "stderr",
     "output_type": "stream",
     "text": [
      "/Users/dstansby/miniconda3/envs/pub-env/lib/python3.8/functools.py:875: UserWarning: Discarding nonzero nanoseconds in conversion\n",
      "  return dispatch(args[0].__class__)(*args, **kw)\n",
      "WARNING: SunpyUserWarning: Using .data to access the dataframe is discouraged; use .to_dataframe() instead. [sunpy.timeseries.timeseriesbase]\n"
     ]
    },
    {
     "name": "stdout",
     "output_type": "stream",
     "text": [
      "2018-11-04 00:00:00\n",
      "Downloading https://spdf.gsfc.nasa.gov/pub/data/psp/sweap/spc/l3/l3i/2018/psp_swp_spc_l3i_20181104_v01.cdf to /Users/dstansby/Data/psp/sweap/spc/l3/l3i/2018/psp_swp_spc_l3i_20181104_v01.cdf\n"
     ]
    },
    {
     "name": "stderr",
     "output_type": "stream",
     "text": [
      "100.0% 31440896 / 31438341\n"
     ]
    },
    {
     "name": "stdout",
     "output_type": "stream",
     "text": [
      "\n",
      "\n"
     ]
    },
    {
     "name": "stderr",
     "output_type": "stream",
     "text": [
      "/Users/dstansby/miniconda3/envs/pub-env/lib/python3.8/functools.py:875: UserWarning: Discarding nonzero nanoseconds in conversion\n",
      "  return dispatch(args[0].__class__)(*args, **kw)\n",
      "WARNING: SunpyUserWarning: Using .data to access the dataframe is discouraged; use .to_dataframe() instead. [sunpy.timeseries.timeseriesbase]\n"
     ]
    },
    {
     "name": "stdout",
     "output_type": "stream",
     "text": [
      "2018-11-05 00:00:00\n",
      "Downloading https://spdf.gsfc.nasa.gov/pub/data/psp/sweap/spc/l3/l3i/2018/psp_swp_spc_l3i_20181105_v01.cdf to /Users/dstansby/Data/psp/sweap/spc/l3/l3i/2018/psp_swp_spc_l3i_20181105_v01.cdf\n"
     ]
    },
    {
     "name": "stderr",
     "output_type": "stream",
     "text": [
      "100.0% 20635648 / 20631986\n"
     ]
    },
    {
     "name": "stdout",
     "output_type": "stream",
     "text": [
      "\n",
      "\n"
     ]
    },
    {
     "name": "stderr",
     "output_type": "stream",
     "text": [
      "/Users/dstansby/miniconda3/envs/pub-env/lib/python3.8/functools.py:875: UserWarning: Discarding nonzero nanoseconds in conversion\n",
      "  return dispatch(args[0].__class__)(*args, **kw)\n",
      "WARNING: SunpyUserWarning: Using .data to access the dataframe is discouraged; use .to_dataframe() instead. [sunpy.timeseries.timeseriesbase]\n"
     ]
    },
    {
     "name": "stdout",
     "output_type": "stream",
     "text": [
      "2018-11-06 00:00:00\n",
      "Downloading https://spdf.gsfc.nasa.gov/pub/data/psp/sweap/spc/l3/l3i/2018/psp_swp_spc_l3i_20181106_v01.cdf to /Users/dstansby/Data/psp/sweap/spc/l3/l3i/2018/psp_swp_spc_l3i_20181106_v01.cdf\n"
     ]
    },
    {
     "name": "stderr",
     "output_type": "stream",
     "text": [
      "100.0% 22519808 / 22518628\n"
     ]
    },
    {
     "name": "stdout",
     "output_type": "stream",
     "text": [
      "\n",
      "\n"
     ]
    },
    {
     "name": "stderr",
     "output_type": "stream",
     "text": [
      "/Users/dstansby/miniconda3/envs/pub-env/lib/python3.8/functools.py:875: UserWarning: Discarding nonzero nanoseconds in conversion\n",
      "  return dispatch(args[0].__class__)(*args, **kw)\n",
      "WARNING: SunpyUserWarning: Using .data to access the dataframe is discouraged; use .to_dataframe() instead. [sunpy.timeseries.timeseriesbase]\n"
     ]
    },
    {
     "name": "stdout",
     "output_type": "stream",
     "text": [
      "2018-11-07 00:00:00\n",
      "Downloading https://spdf.gsfc.nasa.gov/pub/data/psp/sweap/spc/l3/l3i/2018/psp_swp_spc_l3i_20181107_v01.cdf to /Users/dstansby/Data/psp/sweap/spc/l3/l3i/2018/psp_swp_spc_l3i_20181107_v01.cdf\n"
     ]
    },
    {
     "name": "stderr",
     "output_type": "stream",
     "text": [
      "100.0% 22740992 / 22736221\n"
     ]
    },
    {
     "name": "stdout",
     "output_type": "stream",
     "text": [
      "\n",
      "\n"
     ]
    },
    {
     "name": "stderr",
     "output_type": "stream",
     "text": [
      "/Users/dstansby/miniconda3/envs/pub-env/lib/python3.8/functools.py:875: UserWarning: Discarding nonzero nanoseconds in conversion\n",
      "  return dispatch(args[0].__class__)(*args, **kw)\n",
      "WARNING: SunpyUserWarning: Using .data to access the dataframe is discouraged; use .to_dataframe() instead. [sunpy.timeseries.timeseriesbase]\n"
     ]
    },
    {
     "name": "stdout",
     "output_type": "stream",
     "text": [
      "2018-11-08 00:00:00\n",
      "Downloading https://spdf.gsfc.nasa.gov/pub/data/psp/sweap/spc/l3/l3i/2018/psp_swp_spc_l3i_20181108_v01.cdf to /Users/dstansby/Data/psp/sweap/spc/l3/l3i/2018/psp_swp_spc_l3i_20181108_v01.cdf\n"
     ]
    },
    {
     "name": "stderr",
     "output_type": "stream",
     "text": [
      "100.0% 23035904 / 23032743\n"
     ]
    },
    {
     "name": "stdout",
     "output_type": "stream",
     "text": [
      "\n",
      "\n"
     ]
    },
    {
     "name": "stderr",
     "output_type": "stream",
     "text": [
      "/Users/dstansby/miniconda3/envs/pub-env/lib/python3.8/functools.py:875: UserWarning: Discarding nonzero nanoseconds in conversion\n",
      "  return dispatch(args[0].__class__)(*args, **kw)\n",
      "WARNING: SunpyUserWarning: Using .data to access the dataframe is discouraged; use .to_dataframe() instead. [sunpy.timeseries.timeseriesbase]\n"
     ]
    },
    {
     "name": "stdout",
     "output_type": "stream",
     "text": [
      "2018-11-09 00:00:00\n",
      "Downloading https://spdf.gsfc.nasa.gov/pub/data/psp/sweap/spc/l3/l3i/2018/psp_swp_spc_l3i_20181109_v01.cdf to /Users/dstansby/Data/psp/sweap/spc/l3/l3i/2018/psp_swp_spc_l3i_20181109_v01.cdf\n"
     ]
    },
    {
     "name": "stderr",
     "output_type": "stream",
     "text": [
      "100.0% 23068672 / 23067348\n"
     ]
    },
    {
     "name": "stdout",
     "output_type": "stream",
     "text": [
      "\n",
      "\n"
     ]
    },
    {
     "name": "stderr",
     "output_type": "stream",
     "text": [
      "/Users/dstansby/miniconda3/envs/pub-env/lib/python3.8/functools.py:875: UserWarning: Discarding nonzero nanoseconds in conversion\n",
      "  return dispatch(args[0].__class__)(*args, **kw)\n",
      "WARNING: SunpyUserWarning: Using .data to access the dataframe is discouraged; use .to_dataframe() instead. [sunpy.timeseries.timeseriesbase]\n"
     ]
    },
    {
     "name": "stdout",
     "output_type": "stream",
     "text": [
      "2018-11-10 00:00:00\n",
      "Downloading https://spdf.gsfc.nasa.gov/pub/data/psp/sweap/spc/l3/l3i/2018/psp_swp_spc_l3i_20181110_v01.cdf to /Users/dstansby/Data/psp/sweap/spc/l3/l3i/2018/psp_swp_spc_l3i_20181110_v01.cdf\n"
     ]
    },
    {
     "name": "stderr",
     "output_type": "stream",
     "text": [
      "100.0% 23183360 / 23181256\n"
     ]
    },
    {
     "name": "stdout",
     "output_type": "stream",
     "text": [
      "\n",
      "\n"
     ]
    },
    {
     "name": "stderr",
     "output_type": "stream",
     "text": [
      "/Users/dstansby/miniconda3/envs/pub-env/lib/python3.8/functools.py:875: UserWarning: Discarding nonzero nanoseconds in conversion\n",
      "  return dispatch(args[0].__class__)(*args, **kw)\n",
      "WARNING: SunpyUserWarning: Using .data to access the dataframe is discouraged; use .to_dataframe() instead. [sunpy.timeseries.timeseriesbase]\n"
     ]
    },
    {
     "name": "stdout",
     "output_type": "stream",
     "text": [
      "2018-11-11 00:00:00\n",
      "Downloading https://spdf.gsfc.nasa.gov/pub/data/psp/sweap/spc/l3/l3i/2018/psp_swp_spc_l3i_20181111_v01.cdf to /Users/dstansby/Data/psp/sweap/spc/l3/l3i/2018/psp_swp_spc_l3i_20181111_v01.cdf\n"
     ]
    },
    {
     "name": "stderr",
     "output_type": "stream",
     "text": [
      "100.0% 4292608 / 4288481\n"
     ]
    },
    {
     "name": "stdout",
     "output_type": "stream",
     "text": [
      "\n",
      "\n"
     ]
    },
    {
     "name": "stderr",
     "output_type": "stream",
     "text": [
      "/Users/dstansby/miniconda3/envs/pub-env/lib/python3.8/functools.py:875: UserWarning: Discarding nonzero nanoseconds in conversion\n",
      "  return dispatch(args[0].__class__)(*args, **kw)\n",
      "WARNING: SunpyUserWarning: Using .data to access the dataframe is discouraged; use .to_dataframe() instead. [sunpy.timeseries.timeseriesbase]\n"
     ]
    },
    {
     "name": "stdout",
     "output_type": "stream",
     "text": [
      "2018-11-12 00:00:00\n",
      "Downloading https://spdf.gsfc.nasa.gov/pub/data/psp/sweap/spc/l3/l3i/2018/psp_swp_spc_l3i_20181112_v01.cdf to /Users/dstansby/Data/psp/sweap/spc/l3/l3i/2018/psp_swp_spc_l3i_20181112_v01.cdf\n"
     ]
    },
    {
     "name": "stderr",
     "output_type": "stream",
     "text": [
      "100.0% 966656 / 961168\n"
     ]
    },
    {
     "name": "stdout",
     "output_type": "stream",
     "text": [
      "\n",
      "\n"
     ]
    },
    {
     "name": "stderr",
     "output_type": "stream",
     "text": [
      "/Users/dstansby/miniconda3/envs/pub-env/lib/python3.8/functools.py:875: UserWarning: Discarding nonzero nanoseconds in conversion\n",
      "  return dispatch(args[0].__class__)(*args, **kw)\n",
      "WARNING: SunpyUserWarning: Using .data to access the dataframe is discouraged; use .to_dataframe() instead. [sunpy.timeseries.timeseriesbase]\n"
     ]
    },
    {
     "name": "stdout",
     "output_type": "stream",
     "text": [
      "2018-11-13 00:00:00\n",
      "Downloading https://spdf.gsfc.nasa.gov/pub/data/psp/sweap/spc/l3/l3i/2018/psp_swp_spc_l3i_20181113_v01.cdf to /Users/dstansby/Data/psp/sweap/spc/l3/l3i/2018/psp_swp_spc_l3i_20181113_v01.cdf\n"
     ]
    },
    {
     "name": "stderr",
     "output_type": "stream",
     "text": [
      "100.0% 958464 / 956444\n"
     ]
    },
    {
     "name": "stdout",
     "output_type": "stream",
     "text": [
      "\n",
      "\n"
     ]
    },
    {
     "name": "stderr",
     "output_type": "stream",
     "text": [
      "/Users/dstansby/miniconda3/envs/pub-env/lib/python3.8/functools.py:875: UserWarning: Discarding nonzero nanoseconds in conversion\n",
      "  return dispatch(args[0].__class__)(*args, **kw)\n",
      "WARNING: SunpyUserWarning: Using .data to access the dataframe is discouraged; use .to_dataframe() instead. [sunpy.timeseries.timeseriesbase]\n"
     ]
    },
    {
     "name": "stdout",
     "output_type": "stream",
     "text": [
      "2018-11-14 00:00:00\n",
      "Downloading https://spdf.gsfc.nasa.gov/pub/data/psp/sweap/spc/l3/l3i/2018/psp_swp_spc_l3i_20181114_v01.cdf to /Users/dstansby/Data/psp/sweap/spc/l3/l3i/2018/psp_swp_spc_l3i_20181114_v01.cdf\n"
     ]
    },
    {
     "name": "stderr",
     "output_type": "stream",
     "text": [
      "100.0% 933888 / 930445\n"
     ]
    },
    {
     "name": "stdout",
     "output_type": "stream",
     "text": [
      "\n",
      "\n"
     ]
    },
    {
     "name": "stderr",
     "output_type": "stream",
     "text": [
      "/Users/dstansby/miniconda3/envs/pub-env/lib/python3.8/functools.py:875: UserWarning: Discarding nonzero nanoseconds in conversion\n",
      "  return dispatch(args[0].__class__)(*args, **kw)\n",
      "WARNING: SunpyUserWarning: Using .data to access the dataframe is discouraged; use .to_dataframe() instead. [sunpy.timeseries.timeseriesbase]\n"
     ]
    },
    {
     "name": "stdout",
     "output_type": "stream",
     "text": [
      "2018-11-15 00:00:00\n",
      "Downloading https://spdf.gsfc.nasa.gov/pub/data/psp/sweap/spc/l3/l3i/2018/psp_swp_spc_l3i_20181115_v01.cdf to /Users/dstansby/Data/psp/sweap/spc/l3/l3i/2018/psp_swp_spc_l3i_20181115_v01.cdf\n"
     ]
    },
    {
     "name": "stderr",
     "output_type": "stream",
     "text": [
      "100.0% 933888 / 933026\n"
     ]
    },
    {
     "name": "stdout",
     "output_type": "stream",
     "text": [
      "\n",
      "\n"
     ]
    },
    {
     "name": "stderr",
     "output_type": "stream",
     "text": [
      "/Users/dstansby/miniconda3/envs/pub-env/lib/python3.8/functools.py:875: UserWarning: Discarding nonzero nanoseconds in conversion\n",
      "  return dispatch(args[0].__class__)(*args, **kw)\n",
      "WARNING: SunpyUserWarning: Using .data to access the dataframe is discouraged; use .to_dataframe() instead. [sunpy.timeseries.timeseriesbase]\n"
     ]
    },
    {
     "name": "stdout",
     "output_type": "stream",
     "text": [
      "2018-11-16 00:00:00\n",
      "Downloading https://spdf.gsfc.nasa.gov/pub/data/psp/sweap/spc/l3/l3i/2018/psp_swp_spc_l3i_20181116_v01.cdf to /Users/dstansby/Data/psp/sweap/spc/l3/l3i/2018/psp_swp_spc_l3i_20181116_v01.cdf\n"
     ]
    },
    {
     "name": "stderr",
     "output_type": "stream",
     "text": [
      "100.0% 933888 / 926793\n"
     ]
    },
    {
     "name": "stdout",
     "output_type": "stream",
     "text": [
      "\n",
      "\n"
     ]
    },
    {
     "name": "stderr",
     "output_type": "stream",
     "text": [
      "/Users/dstansby/miniconda3/envs/pub-env/lib/python3.8/functools.py:875: UserWarning: Discarding nonzero nanoseconds in conversion\n",
      "  return dispatch(args[0].__class__)(*args, **kw)\n",
      "WARNING: SunpyUserWarning: Using .data to access the dataframe is discouraged; use .to_dataframe() instead. [sunpy.timeseries.timeseriesbase]\n"
     ]
    },
    {
     "name": "stdout",
     "output_type": "stream",
     "text": [
      "2018-11-17 00:00:00\n",
      "Downloading https://spdf.gsfc.nasa.gov/pub/data/psp/sweap/spc/l3/l3i/2018/psp_swp_spc_l3i_20181117_v01.cdf to /Users/dstansby/Data/psp/sweap/spc/l3/l3i/2018/psp_swp_spc_l3i_20181117_v01.cdf\n"
     ]
    },
    {
     "name": "stderr",
     "output_type": "stream",
     "text": [
      "100.0% 835584 / 834719\n"
     ]
    },
    {
     "name": "stdout",
     "output_type": "stream",
     "text": [
      "\n",
      "\n"
     ]
    },
    {
     "name": "stderr",
     "output_type": "stream",
     "text": [
      "/Users/dstansby/miniconda3/envs/pub-env/lib/python3.8/functools.py:875: UserWarning: Discarding nonzero nanoseconds in conversion\n",
      "  return dispatch(args[0].__class__)(*args, **kw)\n",
      "WARNING: SunpyUserWarning: Using .data to access the dataframe is discouraged; use .to_dataframe() instead. [sunpy.timeseries.timeseriesbase]\n"
     ]
    },
    {
     "name": "stdout",
     "output_type": "stream",
     "text": [
      "2018-11-18 00:00:00\n",
      "Downloading https://spdf.gsfc.nasa.gov/pub/data/psp/sweap/spc/l3/l3i/2018/psp_swp_spc_l3i_20181118_v01.cdf to /Users/dstansby/Data/psp/sweap/spc/l3/l3i/2018/psp_swp_spc_l3i_20181118_v01.cdf\n"
     ]
    },
    {
     "name": "stderr",
     "output_type": "stream",
     "text": [
      "100.0% 3284992 / 3278289\n"
     ]
    },
    {
     "name": "stdout",
     "output_type": "stream",
     "text": [
      "\n",
      "\n"
     ]
    },
    {
     "name": "stderr",
     "output_type": "stream",
     "text": [
      "/Users/dstansby/miniconda3/envs/pub-env/lib/python3.8/functools.py:875: UserWarning: Discarding nonzero nanoseconds in conversion\n",
      "  return dispatch(args[0].__class__)(*args, **kw)\n",
      "WARNING: SunpyUserWarning: Using .data to access the dataframe is discouraged; use .to_dataframe() instead. [sunpy.timeseries.timeseriesbase]\n"
     ]
    },
    {
     "name": "stdout",
     "output_type": "stream",
     "text": [
      "2018-11-19 00:00:00\n",
      "Downloading https://spdf.gsfc.nasa.gov/pub/data/psp/sweap/spc/l3/l3i/2018/psp_swp_spc_l3i_20181119_v01.cdf to /Users/dstansby/Data/psp/sweap/spc/l3/l3i/2018/psp_swp_spc_l3i_20181119_v01.cdf\n"
     ]
    },
    {
     "name": "stderr",
     "output_type": "stream",
     "text": [
      "100.0% 802816 / 795582\n"
     ]
    },
    {
     "name": "stdout",
     "output_type": "stream",
     "text": [
      "\n",
      "\n"
     ]
    },
    {
     "name": "stderr",
     "output_type": "stream",
     "text": [
      "/Users/dstansby/miniconda3/envs/pub-env/lib/python3.8/functools.py:875: UserWarning: Discarding nonzero nanoseconds in conversion\n",
      "  return dispatch(args[0].__class__)(*args, **kw)\n",
      "WARNING: SunpyUserWarning: Using .data to access the dataframe is discouraged; use .to_dataframe() instead. [sunpy.timeseries.timeseriesbase]\n"
     ]
    },
    {
     "name": "stdout",
     "output_type": "stream",
     "text": [
      "2018-11-20 00:00:00\n",
      "Downloading https://spdf.gsfc.nasa.gov/pub/data/psp/sweap/spc/l3/l3i/2018/psp_swp_spc_l3i_20181120_v01.cdf to /Users/dstansby/Data/psp/sweap/spc/l3/l3i/2018/psp_swp_spc_l3i_20181120_v01.cdf\n"
     ]
    },
    {
     "name": "stderr",
     "output_type": "stream",
     "text": [
      "100.0% 835584 / 834152\n"
     ]
    },
    {
     "name": "stdout",
     "output_type": "stream",
     "text": [
      "\n",
      "\n"
     ]
    },
    {
     "name": "stderr",
     "output_type": "stream",
     "text": [
      "/Users/dstansby/miniconda3/envs/pub-env/lib/python3.8/functools.py:875: UserWarning: Discarding nonzero nanoseconds in conversion\n",
      "  return dispatch(args[0].__class__)(*args, **kw)\n",
      "WARNING: SunpyUserWarning: Using .data to access the dataframe is discouraged; use .to_dataframe() instead. [sunpy.timeseries.timeseriesbase]\n"
     ]
    },
    {
     "name": "stdout",
     "output_type": "stream",
     "text": [
      "2018-11-21 00:00:00\n",
      "Downloading https://spdf.gsfc.nasa.gov/pub/data/psp/sweap/spc/l3/l3i/2018/psp_swp_spc_l3i_20181121_v01.cdf to /Users/dstansby/Data/psp/sweap/spc/l3/l3i/2018/psp_swp_spc_l3i_20181121_v01.cdf\n"
     ]
    },
    {
     "name": "stderr",
     "output_type": "stream",
     "text": [
      "100.0% 884736 / 878139\n"
     ]
    },
    {
     "name": "stdout",
     "output_type": "stream",
     "text": [
      "\n",
      "\n"
     ]
    },
    {
     "name": "stderr",
     "output_type": "stream",
     "text": [
      "/Users/dstansby/miniconda3/envs/pub-env/lib/python3.8/functools.py:875: UserWarning: Discarding nonzero nanoseconds in conversion\n",
      "  return dispatch(args[0].__class__)(*args, **kw)\n",
      "WARNING: SunpyUserWarning: Using .data to access the dataframe is discouraged; use .to_dataframe() instead. [sunpy.timeseries.timeseriesbase]\n"
     ]
    },
    {
     "name": "stdout",
     "output_type": "stream",
     "text": [
      "2018-11-22 00:00:00\n",
      "Downloading https://spdf.gsfc.nasa.gov/pub/data/psp/sweap/spc/l3/l3i/2018/psp_swp_spc_l3i_20181122_v01.cdf to /Users/dstansby/Data/psp/sweap/spc/l3/l3i/2018/psp_swp_spc_l3i_20181122_v01.cdf\n"
     ]
    },
    {
     "name": "stderr",
     "output_type": "stream",
     "text": [
      "100.0% 884736 / 883172\n"
     ]
    },
    {
     "name": "stdout",
     "output_type": "stream",
     "text": [
      "\n",
      "\n"
     ]
    },
    {
     "name": "stderr",
     "output_type": "stream",
     "text": [
      "/Users/dstansby/miniconda3/envs/pub-env/lib/python3.8/functools.py:875: UserWarning: Discarding nonzero nanoseconds in conversion\n",
      "  return dispatch(args[0].__class__)(*args, **kw)\n",
      "WARNING: SunpyUserWarning: Using .data to access the dataframe is discouraged; use .to_dataframe() instead. [sunpy.timeseries.timeseriesbase]\n"
     ]
    },
    {
     "name": "stdout",
     "output_type": "stream",
     "text": [
      "2018-11-23 00:00:00\n",
      "Downloading https://spdf.gsfc.nasa.gov/pub/data/psp/sweap/spc/l3/l3i/2018/psp_swp_spc_l3i_20181123_v01.cdf to /Users/dstansby/Data/psp/sweap/spc/l3/l3i/2018/psp_swp_spc_l3i_20181123_v01.cdf\n"
     ]
    },
    {
     "name": "stderr",
     "output_type": "stream",
     "text": [
      "100.0% 884736 / 881627\n"
     ]
    },
    {
     "name": "stdout",
     "output_type": "stream",
     "text": [
      "\n",
      "\n"
     ]
    },
    {
     "name": "stderr",
     "output_type": "stream",
     "text": [
      "/Users/dstansby/miniconda3/envs/pub-env/lib/python3.8/functools.py:875: UserWarning: Discarding nonzero nanoseconds in conversion\n",
      "  return dispatch(args[0].__class__)(*args, **kw)\n",
      "WARNING: SunpyUserWarning: Using .data to access the dataframe is discouraged; use .to_dataframe() instead. [sunpy.timeseries.timeseriesbase]\n"
     ]
    },
    {
     "name": "stdout",
     "output_type": "stream",
     "text": [
      "2018-11-24 00:00:00\n",
      "Downloading https://spdf.gsfc.nasa.gov/pub/data/psp/sweap/spc/l3/l3i/2018/psp_swp_spc_l3i_20181124_v01.cdf to /Users/dstansby/Data/psp/sweap/spc/l3/l3i/2018/psp_swp_spc_l3i_20181124_v01.cdf\n"
     ]
    },
    {
     "name": "stderr",
     "output_type": "stream",
     "text": [
      "100.0% 638976 / 631396\n"
     ]
    },
    {
     "name": "stdout",
     "output_type": "stream",
     "text": [
      "\n",
      "\n"
     ]
    },
    {
     "name": "stderr",
     "output_type": "stream",
     "text": [
      "/Users/dstansby/miniconda3/envs/pub-env/lib/python3.8/functools.py:875: UserWarning: Discarding nonzero nanoseconds in conversion\n",
      "  return dispatch(args[0].__class__)(*args, **kw)\n",
      "WARNING: SunpyUserWarning: Using .data to access the dataframe is discouraged; use .to_dataframe() instead. [sunpy.timeseries.timeseriesbase]\n"
     ]
    }
   ],
   "source": [
    "sweap_data = []\n",
    "for day in TimeRange(starttime, endtime).get_dates():\n",
    "    day = day.to_datetime()\n",
    "    print(day)\n",
    "    sweap = psp.sweap_spc_l3(day, day + timedelta(days=1) - timedelta(microseconds=1))\n",
    "    keep = sweap.data['general_flag'] == 0\n",
    "    sweap.data = sweap.data[keep]\n",
    "    \n",
    "    sweap.data = sweap.data.resample('1T').mean()\n",
    "    sweap.data.index += timedelta(seconds=30)\n",
    "    sweap_data.append(sweap.data)\n",
    "    \n",
    "sweap_data = pd.concat(sweap_data)\n",
    "sweap.data = sweap_data"
   ]
  },
  {
   "cell_type": "markdown",
   "metadata": {},
   "source": [
    "Filter data for matching times\n",
    "----"
   ]
  },
  {
   "cell_type": "code",
   "execution_count": 5,
   "metadata": {},
   "outputs": [
    {
     "name": "stdout",
     "output_type": "stream",
     "text": [
      "(32809, 5)\n",
      "(32809, 130)\n"
     ]
    }
   ],
   "source": [
    "sweap_idx = sweap.index.intersection(mag.index)\n",
    "mag_idx = mag.index.intersection(sweap.index)\n",
    "sweap.data = sweap.data.loc[sweap_idx]\n",
    "mag.data = mag.data.loc[mag_idx]\n",
    "print(mag.data.shape)\n",
    "print(sweap.data.shape)"
   ]
  },
  {
   "cell_type": "markdown",
   "metadata": {},
   "source": [
    "Drop bad SWEAP data\n",
    "---"
   ]
  },
  {
   "cell_type": "code",
   "execution_count": 6,
   "metadata": {},
   "outputs": [
    {
     "name": "stdout",
     "output_type": "stream",
     "text": [
      "(29292, 5)\n",
      "(29292, 130)\n"
     ]
    }
   ],
   "source": [
    "keep = np.isfinite(sweap.quantity('vp_fit_RTN_0'))\n",
    "keep = keep & np.isfinite(sweap.quantity('np_moment'))\n",
    "sweap.data = sweap.data[keep]\n",
    "mag.data = mag.data[keep]\n",
    "print(mag.data.shape)\n",
    "print(sweap.data.shape)"
   ]
  },
  {
   "cell_type": "markdown",
   "metadata": {},
   "source": [
    "Calculate derived quantities\n",
    "---"
   ]
  },
  {
   "cell_type": "code",
   "execution_count": 7,
   "metadata": {},
   "outputs": [],
   "source": [
    "# Radial distance\n",
    "r = np.sqrt(sweap.quantity('sc_pos_HCI_0')**2 +\n",
    "            sweap.quantity('sc_pos_HCI_1')**2 +\n",
    "            sweap.quantity('sc_pos_HCI_2')**2)\n",
    "r = r.to(u.au)\n",
    "sweap = sweap.add_column('r', r)\n",
    "\n",
    "# Mass flux\n",
    "mass_flux = sweap.quantity('np_moment') * sweap.quantity('vp_moment_RTN_0') * r**2\n",
    "mass_flux = mass_flux.to(u.s**-1)\n",
    "sweap = sweap.add_column('mass_flux', mass_flux)\n",
    "\n",
    "# Radial velocity\n",
    "vr = sweap.quantity('vp_fit_RTN_0')\n",
    "sweap = sweap.add_column('vr', vr)\n",
    "\n",
    "# Magnetic field magnitude\n",
    "modB = np.sqrt(mag.quantity('psp_fld_l2_mag_RTN_1min_0')**2 + \n",
    "             mag.quantity('psp_fld_l2_mag_RTN_1min_1')**2 +\n",
    "             mag.quantity('psp_fld_l2_mag_RTN_1min_2')**2)\n",
    "mag = mag.add_column('|B|', modB)\n",
    "\n",
    "# Alfvén speed\n",
    "vA = mag.quantity('|B|') / np.sqrt(const.mu0 * const.m_p * sweap.quantity('np_moment'))\n",
    "vA = vA.to(u.km / u.s)\n",
    "sweap = sweap.add_column('va', vA)\n",
    "\n",
    "# Distance normalised magnetic field magnitude\n",
    "Bflux = (mag.quantity('|B|') * sweap.quantity('r')**2 / const.R_sun**2).to(u.G)\n",
    "mag = mag.add_column('Bflux', Bflux)"
   ]
  },
  {
   "cell_type": "markdown",
   "metadata": {},
   "source": [
    "Calculate cross helicities\n",
    "---"
   ]
  },
  {
   "cell_type": "code",
   "execution_count": 8,
   "metadata": {
    "scrolled": false
   },
   "outputs": [],
   "source": [
    "sigmac_data = sweap.data[[]].copy()\n",
    "sigmac_data['vp_x'] = sweap.data['vp_moment_RTN_0']\n",
    "sigmac_data['vp_y'] = sweap.data['vp_moment_RTN_1']\n",
    "sigmac_data['vp_z'] = sweap.data['vp_moment_RTN_2']\n",
    "\n",
    "sigmac_data['va_x'] = mag.data['psp_fld_l2_mag_RTN_1min_0'] * sweap.quantity('va') / mag.quantity('|B|')\n",
    "sigmac_data['va_y'] = mag.data['psp_fld_l2_mag_RTN_1min_1'] * sweap.quantity('va') / mag.quantity('|B|')\n",
    "sigmac_data['va_z'] = mag.data['psp_fld_l2_mag_RTN_1min_2'] * sweap.quantity('va') / mag.quantity('|B|')\n",
    "\n",
    "sigmac, sigmac_upsamp = helpers.create_sigma_cs(sigmac_data, '20T', 3)"
   ]
  },
  {
   "cell_type": "markdown",
   "metadata": {},
   "source": [
    "Load electron data\n",
    "---"
   ]
  },
  {
   "cell_type": "code",
   "execution_count": 9,
   "metadata": {},
   "outputs": [
    {
     "name": "stdout",
     "output_type": "stream",
     "text": [
      "(33931, 1)\n"
     ]
    }
   ],
   "source": [
    "electrons = np.load('data/strahl_parallel_temperature_E12.npy', allow_pickle=True)\n",
    "for e in electrons.flat:\n",
    "    electrons = e\n",
    "    pass\n",
    "\n",
    "electrons = pd.DataFrame(electrons['Ts'], columns=['Te'], index=electrons['Epoch'])\n",
    "electrons = electrons.dropna()\n",
    "electrons = electrons.sort_index()\n",
    "electrons = electrons[electrons.index > starttime]\n",
    "electrons = electrons[electrons.index < endtime]\n",
    "\n",
    "# electrons = electrons.resample('5T').mean()\n",
    "print(electrons.shape)\n",
    "ev_to_K = float(1 * u.eV / const.k_B / u.K )\n",
    "electrons['Te'] = electrons['Te'] * ev_to_K / 1e6\n",
    "electrons = GenericTimeSeries(electrons, units={'Te': u.MK})"
   ]
  },
  {
   "cell_type": "markdown",
   "metadata": {},
   "source": [
    "Setup in-situ intervals\n",
    "---"
   ]
  },
  {
   "cell_type": "code",
   "execution_count": 13,
   "metadata": {},
   "outputs": [],
   "source": [
    "import importlib\n",
    "importlib.reload(helpers)\n",
    "from helpers import streams"
   ]
  },
  {
   "cell_type": "code",
   "execution_count": 14,
   "metadata": {},
   "outputs": [],
   "source": [
    "def downsamp_plot(ax, data, var, period='2H', label=''):\n",
    "    downsamp = data.to_dataframe()[var]\n",
    "    downsamp = downsamp.resample(period).median()\n",
    "    ax.step(downsamp.index, downsamp, color='k', where='post', lw=1, label=label)\n",
    "    ax.plot(data.index, data.quantity(var), alpha=0.2, color='tab:blue', lw=1, rasterized=True)"
   ]
  },
  {
   "cell_type": "code",
   "execution_count": 19,
   "metadata": {},
   "outputs": [
    {
     "name": "stderr",
     "output_type": "stream",
     "text": [
      "WARNING: SunpyUserWarning: Using .data to access the dataframe is discouraged; use .to_dataframe() instead. [sunpy.timeseries.timeseriesbase]\n",
      "WARNING: SunpyUserWarning: Using .data to access the dataframe is discouraged; use .to_dataframe() instead. [sunpy.timeseries.timeseriesbase]\n"
     ]
    },
    {
     "data": {
      "image/png": "[encoded data removed]",
      "text/plain": [
       "<Figure size 488x504 with 5 Axes>"
      ]
     },
     "metadata": {
      "needs_background": "light"
     },
     "output_type": "display_data"
    }
   ],
   "source": [
    "fig, axs = plt.subplots(nrows=5, sharex=True, figsize=(2 * figwidth, 7), gridspec_kw={'height_ratios': [1, 0.5, 1, 1, 1]})\n",
    "ax = axs[0]\n",
    "downsamp_plot(ax, sweap, 'vr')\n",
    "\n",
    "ax.set_ylabel('km/s')\n",
    "ax.text(0.01, 0.87, '$v_{sw}$', transform=ax.transAxes)\n",
    "\n",
    "ax = axs[1]\n",
    "ax.scatter(sigmac.index, sigmac['correl'], s=1, color='k')\n",
    "ax.set_ylim(-1, 1)\n",
    "ax.text(0.01, 0.1, '$\\sigma_{c}$', transform=ax.transAxes)\n",
    "\n",
    "# Magnetic field\n",
    "ax = axs[2]\n",
    "downsamp_plot(ax, mag, 'Bflux')\n",
    "ax.plot([datetime(2018, 11, 3), datetime(2018, 11, 10)], [1.54, 1.54], color='red', linestyle='--')\n",
    "ax.plot([datetime(2018, 11, 17), datetime(2018, 11, 19)], [1.61, 1.61], color='red', linestyle='--')\n",
    "ax.set_ylim(0, 3.4)\n",
    "\n",
    "ax.set_ylabel('G')\n",
    "ax.text(0.01, 0.85, 'B$_{sw}$ $(r^{2} / r^{2}_{\\odot})$', transform=ax.transAxes)\n",
    "ax.text(0.2, 0.5, 'B$_{\\odot}$', transform=ax.transAxes, color='red')\n",
    "ax.text(0.73, 0.55, 'B$_{\\odot}$', transform=ax.transAxes, color='red')\n",
    "\n",
    "ax = axs[3]\n",
    "sweap.data = sweap.data / 1e35\n",
    "downsamp_plot(ax, sweap, 'mass_flux')\n",
    "sweap.data = sweap.data * 1e35\n",
    "ax.set_ylim(0, 2.1)\n",
    "\n",
    "ax.set_ylabel('10$^{35}$s$^{-1}$sr$^{-1}$')\n",
    "ax.text(0.01, 0.85, '$nvr^{2}$', transform=ax.transAxes)\n",
    "\n",
    "# Electrons\n",
    "ax = axs[4]\n",
    "downsamp_plot(ax, electrons, 'Te')\n",
    "\n",
    "for stream in streams:\n",
    "    for ax in axs:\n",
    "        ax.axvline(stream.start, color=stream.color, ls='--')\n",
    "        ax.axvline(stream.end, color=stream.color, ls='--')\n",
    "        # ax.axvspan(stream.start, stream.end, alpha=0.2, color=stream.color)\n",
    "    axs[0].text(stream.start + (stream.end - stream.start) / 2, 780,\n",
    "                stream.name, ha='center')   \n",
    "ax.set_xlim(starttime, endtime)\n",
    "ax.set_ylabel('MK')\n",
    "ax.text(0.01, 0.85, '$T_{s\\parallel}$', transform=ax.transAxes)\n",
    "\n",
    "for ax in axs:\n",
    "    ax.tick_params(which='both', right=True, direction='inout')\n",
    "fig.align_ylabels()\n",
    "fig.tight_layout()\n",
    "fig.subplots_adjust(hspace=0.1)\n",
    "fig.savefig(f'{figdir}/p1_tseries.pdf', bbox_inches='tight', dpi=300)\n",
    "# fig.savefig('p1_tseries_full.png', dpi=300, bbox_inches='tight')"
   ]
  },
  {
   "cell_type": "markdown",
   "metadata": {},
   "source": [
    "Stream histograms\n",
    "----"
   ]
  },
  {
   "cell_type": "code",
   "execution_count": 12,
   "metadata": {},
   "outputs": [],
   "source": [
    "mag = mag.add_column('B (corona)', (mag.quantity('|B|') * sweap.quantity('r')**2 / const.R_sun**2).to(u.G))\n",
    "mag = mag.add_column('Mass flux', sweap.quantity('mass_flux'))\n",
    "mag = mag.add_column('Mass flux coronal', mag.quantity('Mass flux') / mag.quantity('B (corona)'))"
   ]
  },
  {
   "cell_type": "markdown",
   "metadata": {},
   "source": [
    "Load AR data\n",
    "---"
   ]
  },
  {
   "cell_type": "code",
   "execution_count": 30,
   "metadata": {},
   "outputs": [],
   "source": [
    "ar = {}\n",
    "for i in [1, 2]:\n",
    "    ar[i] = {}\n",
    "    ar[i]['mflux'] = np.load(f'data/mflux_corona_{i}.npy')\n",
    "    ar[i]['Te'] = np.load(f'data/outflow_temps_{i}.npy')"
   ]
  },
  {
   "cell_type": "code",
   "execution_count": 31,
   "metadata": {},
   "outputs": [],
   "source": [
    "from scipy.stats import gaussian_kde\n",
    "def normed_hist(ax, data, log=False, **kwargs):\n",
    "    if log:\n",
    "        data = np.log(data)\n",
    "        \n",
    "    kwargs['lw'] = 1\n",
    "    kde = gaussian_kde(data)\n",
    "    points = np.linspace(data.min(), data.max(), 1000)\n",
    "    kde = kde.evaluate(points)\n",
    "    \n",
    "    if log:\n",
    "        points = np.exp(points)\n",
    "    \n",
    "    orientation = kwargs.pop('orientation', None)\n",
    "    if orientation == 'horizontal':\n",
    "        ax.plot(kde, points, **kwargs)\n",
    "    else:\n",
    "        ax.plot(points, kde, **kwargs)"
   ]
  },
  {
   "cell_type": "code",
   "execution_count": 33,
   "metadata": {},
   "outputs": [
    {
     "name": "stdout",
     "output_type": "stream",
     "text": [
      "1.8556662\n",
      "2.280450882937242\n"
     ]
    },
    {
     "data": {
      "image/png": "[encoded data removed]",
      "text/plain": [
       "<Figure size 288x288 with 3 Axes>"
      ]
     },
     "metadata": {
      "needs_background": "light"
     },
     "output_type": "display_data"
    }
   ],
   "source": [
    "gs = gridspec.GridSpec(2, 2, wspace=0, hspace=0,\n",
    "                       width_ratios=[4, 1],\n",
    "                       height_ratios=[1, 4])\n",
    "\n",
    "fig = plt.figure(figsize=(4, 4))\n",
    "# Mass flux joint plot\n",
    "joint_ax = fig.add_subplot(gs[1, 0])\n",
    "mflux_ax = fig.add_subplot(gs[1, 1], sharey=joint_ax)\n",
    "temp_ax = fig.add_subplot(gs[0, 0], sharex=joint_ax)\n",
    "\n",
    "# Plot in-situ data\n",
    "for stream in streams:\n",
    "    idxs = np.where((mag.index > stream.start) & (mag.index < stream.end))\n",
    "    mflux = (mag.quantity('Mass flux coronal') * stream.b)\n",
    "    mflux = mflux.to_value(1 / u.s)[idxs] / 1e35\n",
    "    \n",
    "    idxs = (electrons.index > stream.start) & (electrons.index < stream.end)\n",
    "    Te = electrons.quantity('Te')[idxs].to_value(u.MK)\n",
    "    Te = Te[np.isfinite(Te)]\n",
    "    \n",
    "    # Joint scatter\n",
    "    joint_ax.errorbar(np.median(Te), np.median(mflux),\n",
    "                yerr=[[np.percentile(mflux, 80) - np.percentile(mflux, 50)],\n",
    "                      [np.percentile(mflux, 50) - np.percentile(mflux, 20)]],\n",
    "                xerr=[[np.percentile(Te, 80) - np.percentile(Te, 50)],\n",
    "                      [np.percentile(Te, 50) - np.percentile(Te, 20)]],\n",
    "                color=stream.color)\n",
    "    # Mass flux\n",
    "    normed_hist(mflux_ax, mflux, log=True, color=stream.color, orientation='horizontal')\n",
    "    # Electron temp\n",
    "    normed_hist(temp_ax, Te, color=stream.color)\n",
    "\n",
    "# Plot active region data\n",
    "for ari in ar:\n",
    "    Te = ar[ari]['Te']\n",
    "    print(np.median(Te))\n",
    "    mflux = ar[ari]['mflux']\n",
    "    Te = Te[np.isfinite(Te)]\n",
    "    mflux = mflux[np.isfinite(mflux)]\n",
    "    joint_ax.errorbar(np.median(Te), np.median(mflux),\n",
    "                yerr=[[np.percentile(mflux, 80) - np.percentile(mflux, 50)],\n",
    "                      [np.percentile(mflux, 50) - np.percentile(mflux, 20)]],\n",
    "                xerr=[[np.percentile(Te, 80) - np.percentile(Te, 50)],\n",
    "                      [np.percentile(Te, 50) - np.percentile(Te, 20)]],\n",
    "                color='tab:red')\n",
    "    # Mass flux\n",
    "    normed_hist(mflux_ax, mflux, log=True, color='red', orientation='horizontal')\n",
    "    # Electron temp\n",
    "    normed_hist(temp_ax, Te, color='red')\n",
    "    \n",
    "    \n",
    "joint_ax.set_yscale('log')\n",
    "joint_ax.set_xlabel('$T_{corona}$ (MK)')\n",
    "joint_ax.set_ylabel(r'Coronal mass flux' + '\\n($10^{35}$ s$^{-2}$ sr$^{-1}$)')\n",
    "\n",
    "\n",
    "mflux_ax.set_xlim(*mflux_ax.get_xlim())\n",
    "for ax in [mflux_ax, temp_ax]:\n",
    "    ax.axis('off')\n",
    "\n",
    "temp_ax.set_ylim(bottom=0)\n",
    "mflux_ax.set_xlim(left=0)\n",
    "\n",
    "joint_ax.grid(lw=1, alpha=0.3)\n",
    "joint_ax.set_ylim(bottom=0.1)\n",
    "joint_ax.set_xlim(left=0.5, right=2.5)\n",
    "joint_ax.tick_params(which='both', right=True, top=True, direction='in')\n",
    "\n",
    "# fig.savefig('ch_hists.pdf', bbox_inches='tight')\n",
    "fig.savefig(f'{figdir}/insitu_hists.pdf', bbox_inches='tight')"
   ]
  },
  {
   "cell_type": "code",
   "execution_count": null,
   "metadata": {},
   "outputs": [],
   "source": []
  }
 ],
 "metadata": {
  "kernelspec": {
   "display_name": "Python 3",
   "language": "python",
   "name": "python3"
  },
  "language_info": {
   "codemirror_mode": {
    "name": "ipython",
    "version": 3
   },
   "file_extension": ".py",
   "mimetype": "text/x-python",
   "name": "python",
   "nbconvert_exporter": "python",
   "pygments_lexer": "ipython3",
   "version": "3.8.5"
  }
 },
 "nbformat": 4,
 "nbformat_minor": 4
}
