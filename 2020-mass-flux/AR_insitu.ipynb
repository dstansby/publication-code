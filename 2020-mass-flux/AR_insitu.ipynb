{
 "cells": [
  {
   "cell_type": "code",
   "execution_count": 1,
   "metadata": {},
   "outputs": [],
   "source": [
    "from heliopy.data import wind\n",
    "from datetime import datetime\n",
    "import matplotlib.pyplot as plt\n",
    "import astropy.constants as const\n",
    "import astropy.units as u\n",
    "import numpy as np\n",
    "import aiapy.calibrate\n",
    "\n",
    "import solar_library\n",
    "\n",
    "import importlib"
   ]
  },
  {
   "cell_type": "markdown",
   "metadata": {},
   "source": [
    "Set up the in-situ intervals\n",
    "---"
   ]
  },
  {
   "cell_type": "code",
   "execution_count": 7,
   "metadata": {},
   "outputs": [],
   "source": [
    "intervals = {2: {'dtimes': (datetime(2013, 1, 24), datetime(2013, 1, 25)),\n",
    "                 'Bcorona': 255 * u.G},\n",
    "             1: {'dtimes': (datetime(2008, 1, 12, 14), datetime(2008, 1, 13, 12)),\n",
    "                 'Bcorona': 19.2 * u.G}}"
   ]
  },
  {
   "cell_type": "markdown",
   "metadata": {},
   "source": [
    "Calculate derived parameters\n",
    "----"
   ]
  },
  {
   "cell_type": "code",
   "execution_count": 11,
   "metadata": {},
   "outputs": [],
   "source": [
    "for i in [1, 2]:\n",
    "    interval = intervals[i]\n",
    "    # Load data\n",
    "    wind_data = wind.swe_h1(*interval['dtimes'])\n",
    "    \n",
    "    # Calculate derived parameters\n",
    "    # Mass flux\n",
    "    mflux = wind_data.quantity('Proton_Np_nonlin') * -wind_data.quantity('Proton_VX_nonlin') * const.au**2\n",
    "    wind_data = wind_data.add_column('Mass flux', mflux.to(1 / u.s))\n",
    "    # Magnetic field strength\n",
    "    modB = np.sqrt(wind_data.quantity('BX')**2 + wind_data.quantity('BY')**2 + wind_data.quantity('BZ')**2)\n",
    "    wind_data = wind_data.add_column('|B|', modB)\n",
    "\n",
    "    # Scale mass flux to coronal base\n",
    "    Bcorona = interval['Bcorona']\n",
    "    mflux_corona = (mflux / 1e35 * Bcorona / modB * const.R_sun**2 / const.au**2).to(1/ u.s)\n",
    "    \n",
    "    # Save mass flux values\n",
    "    np.save(f'data/mflux_corona_{i}.npy', mflux_corona.value)"
   ]
  },
  {
   "cell_type": "code",
   "execution_count": null,
   "metadata": {},
   "outputs": [],
   "source": []
  }
 ],
 "metadata": {
  "kernelspec": {
   "display_name": "Python 3",
   "language": "python",
   "name": "python3"
  },
  "language_info": {
   "codemirror_mode": {
    "name": "ipython",
    "version": 3
   },
   "file_extension": ".py",
   "mimetype": "text/x-python",
   "name": "python",
   "nbconvert_exporter": "python",
   "pygments_lexer": "ipython3",
   "version": "3.8.5"
  }
 },
 "nbformat": 4,
 "nbformat_minor": 4
}
